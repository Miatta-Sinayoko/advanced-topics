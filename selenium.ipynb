{
 "cells": [
  {
   "cell_type": "markdown",
   "id": "535d2254",
   "metadata": {},
   "source": [
    "# Lesson: Additional Topics - SELENIUM"
   ]
  },
  {
   "cell_type": "code",
   "execution_count": null,
   "id": "d1397357",
   "metadata": {},
   "outputs": [],
   "source": [
    "from selenium import webdriver\n",
    "from selenium.webdriver.chrome.service import Service\n",
    "from selenium.webdriver.common.keys import Keys\n",
    "from selenium.webdriver.common.by import By\n",
    "from selenium.webdriver.common.action_chains import ActionChains\n",
    "from selenium.webdriver.support.ui import Select, WebDriverWait\n",
    "from selenium.webdriver.support import expected_conditions as EC\n",
    "\n",
    "from webdriver_manager.chrome import ChromeDriverManager\n",
    "\n",
    "import time as t\n",
    "import os"
   ]
  },
  {
   "cell_type": "markdown",
   "id": "2d0322e6",
   "metadata": {},
   "source": [
    "# Variables"
   ]
  },
  {
   "cell_type": "code",
   "execution_count": null,
   "id": "1736c42c",
   "metadata": {},
   "outputs": [],
   "source": [
    "github_username = os.environ.get('Miatta-Sinayoko')\n",
    "github_token = os.environ.get('S@$sandrA3')"
   ]
  },
  {
   "cell_type": "code",
   "execution_count": null,
   "id": "bf58636c",
   "metadata": {},
   "outputs": [],
   "source": [
    "github_username"
   ]
  },
  {
   "cell_type": "code",
   "execution_count": null,
   "id": "cd773402",
   "metadata": {},
   "outputs": [],
   "source": [
    "# Call ChromeDriverManager().install() to download and install ChromeDriver\n",
    "\n",
    "ChromeDriverManager().install()"
   ]
  },
  {
   "cell_type": "code",
   "execution_count": null,
   "id": "05b12834",
   "metadata": {},
   "outputs": [],
   "source": [
    "# Create a webdriver object \n",
    "\n",
    "driver = webdriver.Chrome(service = Service())\n"
   ]
  },
  {
   "cell_type": "code",
   "execution_count": null,
   "id": "ec063a9d",
   "metadata": {},
   "outputs": [],
   "source": [
    "# Let's open up a website!\n",
    "base_url = \"https://github.com/\"\n",
    "driver.get(base_url+\"login\")"
   ]
  },
  {
   "cell_type": "code",
   "execution_count": null,
   "id": "5433c032",
   "metadata": {},
   "outputs": [],
   "source": [
    "# Maximize the page\n",
    "driver.maximize_window()"
   ]
  },
  {
   "cell_type": "code",
   "execution_count": null,
   "id": "8a4978d0",
   "metadata": {},
   "outputs": [],
   "source": [
    "# or change the ratio according to pixels\n",
    "driver.set_window_size(1400,1000)"
   ]
  },
  {
   "cell_type": "code",
   "execution_count": null,
   "id": "1ff22601",
   "metadata": {},
   "outputs": [],
   "source": [
    "# Maximize the page\n",
    "\n",
    "driver.maximize_window()"
   ]
  },
  {
   "cell_type": "code",
   "execution_count": null,
   "id": "85d174b3",
   "metadata": {},
   "outputs": [],
   "source": [
    "# or change the ratio according to pixels\n",
    "\n",
    "driver.set_window_size(1400,1000)"
   ]
  },
  {
   "cell_type": "markdown",
   "id": "fa6a3c80",
   "metadata": {},
   "source": [
    "# Finding Web Elements\n",
    "\n",
    "Now this is where we can dig into our developer tools that we've used in the past for webscraping!\n",
    "We'll want to locate where our username and password will be placed into.\n",
    "\n",
    "image.png\n",
    "\n",
    "image.png"
   ]
  },
  {
   "cell_type": "code",
   "execution_count": null,
   "id": "31e6eae6",
   "metadata": {},
   "outputs": [],
   "source": [
    "# Get to finding!\n",
    "\n",
    "driver.find_element(By.NAME, \"login\").click()\n",
    " #Use `click()` to test"
   ]
  },
  {
   "cell_type": "markdown",
   "id": "3972e1bb",
   "metadata": {},
   "source": [
    "# Basic Interactions"
   ]
  },
  {
   "cell_type": "code",
   "execution_count": null,
   "id": "652269f8",
   "metadata": {},
   "outputs": [],
   "source": [
    "# Enter username\n",
    "\n",
    "driver.find_element(By.NAME, \"login\").send_keys(github_username)"
   ]
  },
  {
   "cell_type": "code",
   "execution_count": null,
   "id": "978443bb",
   "metadata": {},
   "outputs": [],
   "source": [
    "# Enter password\n",
    "\n",
    "driver.find_element(By.NAME, \"password\").send_keys(github_token)"
   ]
  },
  {
   "cell_type": "code",
   "execution_count": null,
   "id": "5a1f558c",
   "metadata": {},
   "outputs": [],
   "source": [
    "# Locate and click the sign in button\n",
    "\n",
    "driver.find_element(By.NAME, \"commit\").click()"
   ]
  },
  {
   "cell_type": "code",
   "execution_count": null,
   "id": "d561cfd6",
   "metadata": {},
   "outputs": [],
   "source": [
    "# navigate to database-exercises repo\n",
    "\n",
    "driver.get(base_url+github_username+\"/database-exercises\")"
   ]
  },
  {
   "cell_type": "markdown",
   "id": "4811dfdf",
   "metadata": {},
   "source": [
    "# XPath\n",
    "\n",
    "XPath is commonly used in web scraping and automated testing, especially when working with HTML/XML-based web pages.\n",
    "\n",
    "It allows you to locate and extract specific elements or data from the page by targeting their XPath expressions.\n",
    "\n",
    "Let's use XPath Playground to help us locate our repo links!"
   ]
  },
  {
   "cell_type": "markdown",
   "id": "91ff5e97",
   "metadata": {},
   "source": [
    "driver.find_elements(By.XPATH, \"//a[@class='js-navigation-open Link--primary']\")"
   ]
  },
  {
   "cell_type": "code",
   "execution_count": null,
   "id": "c8fc83a9",
   "metadata": {},
   "outputs": [],
   "source": [
    "# Lets see what the first element is\n",
    "\n",
    "driver.find_elements(By.XPATH, \"//a[@class='js-navigation-open Link--primary']\")[0].text"
   ]
  },
  {
   "cell_type": "code",
   "execution_count": null,
   "id": "5576b374",
   "metadata": {},
   "outputs": [],
   "source": [
    "#select first sql file\n",
    "\n",
    "driver.find_elements(By.XPATH, \"//a[@class='js-navigation-open Link--primary']\")[0].click()"
   ]
  },
  {
   "cell_type": "code",
   "execution_count": null,
   "id": "9442bc09",
   "metadata": {},
   "outputs": [],
   "source": [
    "# download the file\n",
    "# CMD + F in developer tool\n",
    "\n",
    "driver.find_elements(By.XPATH, \"/html/body/div[1]/div[6]/div/main/turbo-frame/react-app/div/div/div[1]/div/div/main/div[2]/div/div[3]/div[2]/div/div[2]/div[1]/div[2]/div[2]/div[1]/div[1]/span/button\")"
   ]
  },
  {
   "cell_type": "markdown",
   "id": "beafdba2",
   "metadata": {},
   "source": [
    "# Action Chains"
   ]
  },
  {
   "cell_type": "code",
   "execution_count": null,
   "id": "dcd32b32",
   "metadata": {},
   "outputs": [],
   "source": [
    "# download the file\n",
    "# Check if this is the correct button by hovering over it\n",
    "dlbutton = driver.find_elements(By.XPATH, \"/html/body/div[1]/div[6]/div/main/turbo-frame/react-app/div/div/div[1]/div/div/main/div[2]/div/div[3]/div[2]/div/div[2]/div[1]/div[2]/div[2]/div[1]/div[1]/span/button\")[0]\n",
    "\n",
    "ActionChains(driver).move_to_element(dlbutton).perform()"
   ]
  },
  {
   "cell_type": "code",
   "execution_count": null,
   "id": "518d5ae7",
   "metadata": {},
   "outputs": [],
   "source": [
    "# Check if this is the correct button by hovering over it\n",
    "\n",
    "ActionChains(driver).move_to_element(driver.find_elements(By.XPATH, \"//span[@role='tooltip']\")[1]).perform()"
   ]
  },
  {
   "cell_type": "code",
   "execution_count": null,
   "id": "fa98aeb9",
   "metadata": {},
   "outputs": [],
   "source": [
    "# download the file\n",
    "\n",
    "#driver.find_elements(By.XPATH, \"//button[@data-component='IconButton']\")[5].click()\n",
    "dlbutton.click()"
   ]
  },
  {
   "cell_type": "code",
   "execution_count": null,
   "id": "b9d2eb8c",
   "metadata": {},
   "outputs": [],
   "source": [
    "Notice that the new page we were directed to has our exercise links listed on the side, if we wanted to repeat the process, we wouldn't necessarily need to go back to the main database-exercises repo page..."
   ]
  },
  {
   "cell_type": "markdown",
   "id": "5bad0f15",
   "metadata": {},
   "source": [
    "# Waits\n",
    "\n",
    "Waits are useful for when you need to allow the webpage time to load. I'm going to use an ipynb that I know usually takes a long time to load for demo purposes.\n",
    "\n",
    "- Implicit: sets a maximum amount of time for the WebDriver to wait for an element to appear.\n",
    "\n",
    "- Explicit: allows you to specify a condition and maximum waiting time for a specific element to become available."
   ]
  },
  {
   "cell_type": "code",
   "execution_count": null,
   "id": "da0e01d4",
   "metadata": {},
   "outputs": [],
   "source": [
    "driver.get(\"https://github.com/o0amandagomez0o/individual_project/blob/master/final_aac.ipynb\")"
   ]
  },
  {
   "cell_type": "code",
   "execution_count": null,
   "id": "0967ac06",
   "metadata": {},
   "outputs": [],
   "source": [
    "#check if ipynb is selected using a right-click\n",
    "#explicit\n",
    "ipynb = WebDriverWait(driver, 50).until(EC.presence_of_element_located((By.XPATH, \"//html\")))\n",
    "ActionChains(driver).context_click(ipynb).perform()"
   ]
  },
  {
   "cell_type": "code",
   "execution_count": null,
   "id": "c700b60b",
   "metadata": {},
   "outputs": [],
   "source": [
    "# reload pg\n",
    "driver.get(\"https://github.com/o0amandagomez0o/individual_project/blob/master/final_aac.ipynb\")"
   ]
  },
  {
   "cell_type": "code",
   "execution_count": null,
   "id": "d64e758f",
   "metadata": {},
   "outputs": [],
   "source": [
    "#implicit wait\n",
    "driver.implicitly_wait(15)\n",
    "ActionChains(driver).context_click(driver.find_element(By.XPATH, \"//html\")).perform()"
   ]
  },
  {
   "cell_type": "code",
   "execution_count": null,
   "id": "5f8eef35",
   "metadata": {},
   "outputs": [],
   "source": [
    "# Waits differ from sleep timers\n",
    "t.sleep(5)\n",
    "ActionChains(driver).context_click(driver.find_element(By.XPATH, \"//html\")).perform()"
   ]
  },
  {
   "cell_type": "markdown",
   "id": "0930852a",
   "metadata": {},
   "source": [
    "# Closing & Quitting"
   ]
  },
  {
   "cell_type": "code",
   "execution_count": null,
   "id": "18e3c29d",
   "metadata": {},
   "outputs": [],
   "source": [
    ".close() is used to close the current browser window or tab, while .quit() is used to close all browser windows or tabs associated with the WebDriver and terminate the WebDriver session."
   ]
  },
  {
   "cell_type": "code",
   "execution_count": null,
   "id": "dfaf4780",
   "metadata": {},
   "outputs": [],
   "source": [
    "driver.switch_to.new_window('window')"
   ]
  },
  {
   "cell_type": "code",
   "execution_count": null,
   "id": "75f3c20e",
   "metadata": {},
   "outputs": [],
   "source": [
    "# closes the current window\n",
    "driver.close()"
   ]
  },
  {
   "cell_type": "code",
   "execution_count": null,
   "id": "afca63ec",
   "metadata": {},
   "outputs": [],
   "source": [
    "driver.quit()"
   ]
  },
  {
   "cell_type": "markdown",
   "id": "a8dcac90",
   "metadata": {},
   "source": [
    "# Your Turn!\n",
    "\n",
    "1. Make a function that will download all of the sql files listed in your database-exercises repo.\n",
    "\n",
    "2.Pick one more repo to download all ipynb's (**only**) from and turn that into a second function.\n",
    "\n",
    "**BONUS:** turn this functions into a py script you can run directly in terminal."
   ]
  },
  {
   "cell_type": "code",
   "execution_count": null,
   "id": "77853928",
   "metadata": {},
   "outputs": [],
   "source": []
  },
  {
   "cell_type": "code",
   "execution_count": null,
   "id": "d02582c3",
   "metadata": {},
   "outputs": [],
   "source": []
  }
 ],
 "metadata": {
  "kernelspec": {
   "display_name": "Python 3 (ipykernel)",
   "language": "python",
   "name": "python3"
  },
  "language_info": {
   "codemirror_mode": {
    "name": "ipython",
    "version": 3
   },
   "file_extension": ".py",
   "mimetype": "text/x-python",
   "name": "python",
   "nbconvert_exporter": "python",
   "pygments_lexer": "ipython3",
   "version": "3.10.9"
  },
  "varInspector": {
   "cols": {
    "lenName": 16,
    "lenType": 16,
    "lenVar": 40
   },
   "kernels_config": {
    "python": {
     "delete_cmd_postfix": "",
     "delete_cmd_prefix": "del ",
     "library": "var_list.py",
     "varRefreshCmd": "print(var_dic_list())"
    },
    "r": {
     "delete_cmd_postfix": ") ",
     "delete_cmd_prefix": "rm(",
     "library": "var_list.r",
     "varRefreshCmd": "cat(var_dic_list()) "
    }
   },
   "types_to_exclude": [
    "module",
    "function",
    "builtin_function_or_method",
    "instance",
    "_Feature"
   ],
   "window_display": false
  }
 },
 "nbformat": 4,
 "nbformat_minor": 5
}
